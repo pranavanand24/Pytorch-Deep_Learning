{
 "cells": [
  {
   "cell_type": "code",
   "execution_count": 1,
   "id": "3d31bef4-519b-4f2d-842c-d8b4dddd6bef",
   "metadata": {},
   "outputs": [],
   "source": [
    "import torch"
   ]
  },
  {
   "cell_type": "code",
   "execution_count": 2,
   "id": "ea375786-5794-4185-b610-ff7bf9cb9bce",
   "metadata": {},
   "outputs": [],
   "source": [
    "# Create an empty tensor"
   ]
  },
  {
   "cell_type": "code",
   "execution_count": 3,
   "id": "08e0838f-0897-4571-8901-e308d6a48073",
   "metadata": {},
   "outputs": [
    {
     "name": "stdout",
     "output_type": "stream",
     "text": [
      "tensor([0., 0., 0.])\n"
     ]
    }
   ],
   "source": [
    "# This is an example where it is like a 1-D Vector with three elements\n",
    "x = torch.empty(3)\n",
    "print(x)"
   ]
  },
  {
   "cell_type": "code",
   "execution_count": 4,
   "id": "975d8abc-4199-4bf6-99be-8d28823fe038",
   "metadata": {},
   "outputs": [
    {
     "name": "stdout",
     "output_type": "stream",
     "text": [
      "tensor([[0., 0., 0.],\n",
      "        [0., 0., 0.]])\n"
     ]
    }
   ],
   "source": [
    "# This is an example where it is like a 2-D Vector with three elements\n",
    "x = torch.empty(2, 3)\n",
    "print(x)"
   ]
  },
  {
   "cell_type": "code",
   "execution_count": 5,
   "id": "3e60cd66-22fd-4586-b44e-68ddb6fecdf1",
   "metadata": {},
   "outputs": [],
   "source": [
    "# Create an empty tensor with random values"
   ]
  },
  {
   "cell_type": "code",
   "execution_count": 6,
   "id": "3e1458a7-a649-4da8-a43e-428699b4076f",
   "metadata": {},
   "outputs": [
    {
     "name": "stdout",
     "output_type": "stream",
     "text": [
      "tensor([[0.0904, 0.9782, 0.1432]])\n",
      "torch.float32\n"
     ]
    }
   ],
   "source": [
    "# This is an example where it is like a 1-D Vector with three elements\n",
    "x = torch.rand(1,3)\n",
    "print(x)\n",
    "print(x.dtype)"
   ]
  },
  {
   "cell_type": "code",
   "execution_count": 7,
   "id": "ab79944c-c149-4afb-a227-17950652aef8",
   "metadata": {},
   "outputs": [
    {
     "name": "stdout",
     "output_type": "stream",
     "text": [
      "tensor([[0.4395, 0.3682, 0.2910]], dtype=torch.float16)\n"
     ]
    }
   ],
   "source": [
    "# Explicitly give the datatype\n",
    "x = torch.rand(1,3, dtype=torch.float16)\n",
    "print(x)"
   ]
  },
  {
   "cell_type": "code",
   "execution_count": 8,
   "id": "3526239b-9e9c-475b-abf8-f492515e167f",
   "metadata": {},
   "outputs": [
    {
     "name": "stdout",
     "output_type": "stream",
     "text": [
      "torch.Size([1, 3])\n"
     ]
    }
   ],
   "source": [
    "# To check the size, we can use .size() fn\n",
    "\n",
    "x = torch.rand(1,3, dtype=torch.float16)\n",
    "print(x.size())"
   ]
  },
  {
   "cell_type": "code",
   "execution_count": 9,
   "id": "99dca776-904b-48f8-880e-dbca5cbfbd82",
   "metadata": {},
   "outputs": [
    {
     "name": "stdout",
     "output_type": "stream",
     "text": [
      "tensor([[0.0047, 0.8615],\n",
      "        [0.8409, 0.0566]])\n",
      "tensor([[0.0397, 0.6528],\n",
      "        [0.1546, 0.5224]])\n",
      "tensor([[0.0445, 1.5143],\n",
      "        [0.9955, 0.5790]])\n"
     ]
    }
   ],
   "source": [
    "# Basic Operations on tensors\n",
    "\n",
    "x = torch.rand(2,2)\n",
    "y = torch.rand(2,2)\n",
    "\n",
    "print(x)\n",
    "print(y)\n",
    "\n",
    "z = x + y \n",
    "z = torch.add(x,y)\n",
    "# Print the element-wise sum of the tensors\n",
    "print(z)"
   ]
  },
  {
   "cell_type": "code",
   "execution_count": 10,
   "id": "d94a50bb-e722-4c78-9bb1-03e21aa83c64",
   "metadata": {},
   "outputs": [
    {
     "name": "stdout",
     "output_type": "stream",
     "text": [
      "tensor([[1.0180, 0.9665],\n",
      "        [1.1324, 0.4965]])\n"
     ]
    }
   ],
   "source": [
    "# Inplace operation in PyTorch\n",
    "\n",
    "x = torch.rand(2,2)\n",
    "y = torch.rand(2,2)\n",
    "\n",
    "y.add_(x)\n",
    "print(y)"
   ]
  },
  {
   "cell_type": "code",
   "execution_count": 11,
   "id": "c3bfad84-d008-42af-92a5-e662f0711e72",
   "metadata": {},
   "outputs": [
    {
     "name": "stdout",
     "output_type": "stream",
     "text": [
      "tensor([[-0.7600, -0.3956],\n",
      "        [-0.2297, -0.3408]])\n"
     ]
    }
   ],
   "source": [
    "z = x - y\n",
    "z = torch.sub(x,y)\n",
    "\n",
    "print(z)"
   ]
  },
  {
   "cell_type": "code",
   "execution_count": 12,
   "id": "99d785f2-4cce-4149-a3b8-85e6aebf945a",
   "metadata": {},
   "outputs": [
    {
     "name": "stdout",
     "output_type": "stream",
     "text": [
      "tensor([[0.0378, 0.7502, 0.0262],\n",
      "        [0.3265, 0.7611, 0.3647],\n",
      "        [0.2618, 0.7322, 0.8101],\n",
      "        [0.5699, 0.0254, 0.9979],\n",
      "        [0.1576, 0.9888, 0.5558]])\n",
      "tensor([0.0378, 0.3265, 0.2618, 0.5699, 0.1576])\n"
     ]
    }
   ],
   "source": [
    "# Slicing operation \n",
    "\n",
    "x = torch.rand(5,3)\n",
    "print(x)\n",
    "print(x[:, 0])"
   ]
  },
  {
   "cell_type": "code",
   "execution_count": 28,
   "id": "0728003e-e1b0-4198-a162-28c42d516979",
   "metadata": {},
   "outputs": [
    {
     "name": "stdout",
     "output_type": "stream",
     "text": [
      "tensor([[0.8974, 0.1535, 0.4705, 0.7434],\n",
      "        [0.2420, 0.9783, 0.2768, 0.7144],\n",
      "        [0.5032, 0.8006, 0.8530, 0.2089],\n",
      "        [0.0646, 0.4043, 0.1246, 0.4139]])\n",
      "tensor([0.8974, 0.1535, 0.4705, 0.7434, 0.2420, 0.9783, 0.2768, 0.7144, 0.5032,\n",
      "        0.8006, 0.8530, 0.2089, 0.0646, 0.4043, 0.1246, 0.4139])\n",
      "torch.Size([2, 8])\n"
     ]
    }
   ],
   "source": [
    "# Reshape the tensor\n",
    "\n",
    "x = torch.rand(4,4)\n",
    "print(x)\n",
    "y = x.view(16)\n",
    "print(y)\n",
    "\n",
    "y = x.view(-1,8)\n",
    "print(y.size())"
   ]
  },
  {
   "cell_type": "code",
   "execution_count": 38,
   "id": "57aafe0c-08f6-45d8-bf9c-b8d385616487",
   "metadata": {},
   "outputs": [
    {
     "name": "stdout",
     "output_type": "stream",
     "text": [
      "tensor([1., 1., 1., 1., 1.])\n",
      "[1. 1. 1. 1. 1.]\n",
      "tensor([2., 2., 2., 2., 2.])\n",
      "[2. 2. 2. 2. 2.]\n"
     ]
    }
   ],
   "source": [
    "# Converting from numpy to torch tensor or vice versa\n",
    "\n",
    "import numpy as np\n",
    "\n",
    "a = torch.ones(5)\n",
    "print(a)\n",
    "b = a.numpy()\n",
    "print(b)\n",
    "\n",
    "a.add_(1)\n",
    "print(a)\n",
    "print(b)"
   ]
  },
  {
   "cell_type": "code",
   "execution_count": 42,
   "id": "88193b36-d8b4-409c-a75c-26788bc46c35",
   "metadata": {},
   "outputs": [
    {
     "name": "stdout",
     "output_type": "stream",
     "text": [
      "[1. 1. 1. 1. 1.]\n",
      "tensor([1., 1., 1., 1., 1.], dtype=torch.float64)\n",
      "[2. 2. 2. 2. 2.]\n",
      "tensor([2., 2., 2., 2., 2.], dtype=torch.float64)\n"
     ]
    }
   ],
   "source": [
    "a = np.ones(5)\n",
    "print(a)\n",
    "\n",
    "b = torch.from_numpy(a)\n",
    "print(b)\n",
    "\n",
    "a += 1\n",
    "print(a)\n",
    "print(b)"
   ]
  },
  {
   "cell_type": "code",
   "execution_count": 46,
   "id": "4fb13d89-df71-47f9-a11b-431ec7ccae47",
   "metadata": {},
   "outputs": [
    {
     "name": "stdout",
     "output_type": "stream",
     "text": [
      "tensor([2., 2., 2., 2., 2.], device='cuda:0')\n"
     ]
    }
   ],
   "source": [
    "# CUDA and how to create tensor on GPU\n",
    "\n",
    "if torch.cuda.is_available():\n",
    "    device = torch.device(\"cuda\")\n",
    "    x = torch.ones(5, device=device)\n",
    "    y = torch.ones(5)\n",
    "    y = y.to(device)\n",
    "    z = x + y \n",
    "    print(z)"
   ]
  },
  {
   "cell_type": "code",
   "execution_count": 48,
   "id": "0d83ee2d-5cc0-4681-a0bf-b40c147de392",
   "metadata": {},
   "outputs": [
    {
     "name": "stdout",
     "output_type": "stream",
     "text": [
      "tensor([1., 1., 1., 1., 1.], requires_grad=True)\n"
     ]
    }
   ],
   "source": [
    "# Requires grad functionality \n",
    "\n",
    "x = torch.ones(5, requires_grad=True)\n",
    "print(x)"
   ]
  }
 ],
 "metadata": {
  "kernelspec": {
   "display_name": "Python 3 (ipykernel)",
   "language": "python",
   "name": "python3"
  },
  "language_info": {
   "codemirror_mode": {
    "name": "ipython",
    "version": 3
   },
   "file_extension": ".py",
   "mimetype": "text/x-python",
   "name": "python",
   "nbconvert_exporter": "python",
   "pygments_lexer": "ipython3",
   "version": "3.12.4"
  }
 },
 "nbformat": 4,
 "nbformat_minor": 5
}
